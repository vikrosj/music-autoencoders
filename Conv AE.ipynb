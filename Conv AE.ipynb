{
 "cells": [
  {
   "cell_type": "code",
   "execution_count": 1,
   "metadata": {},
   "outputs": [
    {
     "name": "stderr",
     "output_type": "stream",
     "text": [
      "/home/vik/miniconda3/envs/magenta3/lib/python3.6/site-packages/h5py/__init__.py:36: FutureWarning: Conversion of the second argument of issubdtype from `float` to `np.floating` is deprecated. In future, it will be treated as `np.float64 == np.dtype(float).type`.\n",
      "  from ._conv import register_converters as _register_converters\n",
      "Using TensorFlow backend.\n"
     ]
    }
   ],
   "source": [
    "from keras.layers import Input, Dense, Conv2D, MaxPooling2D, UpSampling2D\n",
    "from keras.models import Model\n",
    "import keras.backend as K"
   ]
  },
  {
   "cell_type": "code",
   "execution_count": 2,
   "metadata": {},
   "outputs": [],
   "source": [
    "input_img = Input(shape=(28,28,1)) # channels last"
   ]
  },
  {
   "cell_type": "code",
   "execution_count": 3,
   "metadata": {},
   "outputs": [],
   "source": [
    "# create encoder model\n",
    "\n",
    "x = Conv2D(filters=16, kernel_size=(3,3), activation='relu', padding='same')(input_img)\n",
    "x = MaxPooling2D((2,2), padding='same')(x)\n",
    "x = Conv2D(filters=8, kernel_size=(3,3), activation='relu', padding='same')(x)\n",
    "x = MaxPooling2D((2,2), padding='same')(x)\n",
    "x = Conv2D(8, (3,3), activation='relu', padding='same')(x)\n",
    "encoded = MaxPooling2D((2,2), padding='same')(x)"
   ]
  },
  {
   "cell_type": "code",
   "execution_count": 4,
   "metadata": {},
   "outputs": [],
   "source": [
    "# at this point the representation is (4, 4, 8) i.e. 128-dimensional"
   ]
  },
  {
   "cell_type": "code",
   "execution_count": 6,
   "metadata": {},
   "outputs": [],
   "source": [
    "# create decoder model\n",
    "\n",
    "x = Conv2D(8, (3,3), activation='relu', padding='same')(encoded)\n",
    "x = UpSampling2D((2,2))(x)\n",
    "x = Conv2D(8, (3,3), activation='relu', padding='same')(x)\n",
    "x = UpSampling2D((2,2))(x)\n",
    "x = Conv2D(16, (3,3), activation='relu')(x)\n",
    "x = UpSampling2D((2,2))(x)\n",
    "decoded = Conv2D(1, (3,3), activation='sigmoid', padding='same')(x)"
   ]
  },
  {
   "cell_type": "code",
   "execution_count": 7,
   "metadata": {},
   "outputs": [],
   "source": [
    "autoencoder = Model(input_img, decoded)\n",
    "autoencoder.compile(optimizer='adadelta', loss='binary_crossentropy')"
   ]
  },
  {
   "cell_type": "code",
   "execution_count": 8,
   "metadata": {},
   "outputs": [],
   "source": [
    "# Training\n",
    "\n",
    "from keras.datasets import mnist\n",
    "import numpy as np\n",
    "\n",
    "(x_train, _), (x_test, _) = mnist.load_data()"
   ]
  },
  {
   "cell_type": "code",
   "execution_count": 9,
   "metadata": {},
   "outputs": [],
   "source": [
    "# normalize data\n",
    "\n",
    "x_train = x_train.astype('float32') / 255.\n",
    "x_test = x_test.astype('float32') / 255.\n",
    "\n",
    "x_train = x_train.reshape(len(x_train), 28, 28, 1)\n",
    "x_test = x_test.reshape(len(x_test), 28, 28, 1)"
   ]
  },
  {
   "cell_type": "code",
   "execution_count": 11,
   "metadata": {},
   "outputs": [
    {
     "data": {
      "text/plain": [
       "((10000, 28, 28, 1), (60000, 28, 28, 1))"
      ]
     },
     "execution_count": 11,
     "metadata": {},
     "output_type": "execute_result"
    }
   ],
   "source": [
    "x_test.shape, x_train.shape"
   ]
  },
  {
   "cell_type": "code",
   "execution_count": 12,
   "metadata": {},
   "outputs": [
    {
     "name": "stdout",
     "output_type": "stream",
     "text": [
      "Train on 60000 samples, validate on 10000 samples\n",
      "Epoch 1/50\n",
      "60000/60000 [==============================] - 61s 1ms/step - loss: 0.2063 - val_loss: 0.1670\n",
      "Epoch 2/50\n",
      "60000/60000 [==============================] - 61s 1ms/step - loss: 0.1554 - val_loss: 0.1427\n",
      "Epoch 3/50\n",
      "60000/60000 [==============================] - 60s 1ms/step - loss: 0.1409 - val_loss: 0.1335\n",
      "Epoch 4/50\n",
      "60000/60000 [==============================] - 61s 1ms/step - loss: 0.1327 - val_loss: 0.1348\n",
      "Epoch 5/50\n",
      "60000/60000 [==============================] - 61s 1ms/step - loss: 0.1276 - val_loss: 0.1252\n",
      "Epoch 6/50\n",
      "60000/60000 [==============================] - 60s 1ms/step - loss: 0.1241 - val_loss: 0.1185\n",
      "Epoch 7/50\n",
      "60000/60000 [==============================] - 61s 1ms/step - loss: 0.1212 - val_loss: 0.1192\n",
      "Epoch 8/50\n",
      "60000/60000 [==============================] - 62s 1ms/step - loss: 0.1192 - val_loss: 0.1157\n",
      "Epoch 9/50\n",
      "60000/60000 [==============================] - 62s 1ms/step - loss: 0.1173 - val_loss: 0.1185\n",
      "Epoch 10/50\n",
      "60000/60000 [==============================] - 62s 1ms/step - loss: 0.1159 - val_loss: 0.1130\n",
      "Epoch 11/50\n",
      "60000/60000 [==============================] - 62s 1ms/step - loss: 0.1148 - val_loss: 0.1139\n",
      "Epoch 12/50\n",
      "60000/60000 [==============================] - 62s 1ms/step - loss: 0.1138 - val_loss: 0.1121\n",
      "Epoch 13/50\n",
      "60000/60000 [==============================] - 63s 1ms/step - loss: 0.1130 - val_loss: 0.1117\n",
      "Epoch 14/50\n",
      "60000/60000 [==============================] - 62s 1ms/step - loss: 0.1124 - val_loss: 0.1134\n",
      "Epoch 15/50\n",
      "60000/60000 [==============================] - 63s 1ms/step - loss: 0.1117 - val_loss: 0.1090\n",
      "Epoch 16/50\n",
      "60000/60000 [==============================] - 65s 1ms/step - loss: 0.1109 - val_loss: 0.1082\n",
      "Epoch 17/50\n",
      "60000/60000 [==============================] - 63s 1ms/step - loss: 0.1106 - val_loss: 0.1107\n",
      "Epoch 18/50\n",
      "60000/60000 [==============================] - 63s 1ms/step - loss: 0.1099 - val_loss: 0.1104\n",
      "Epoch 19/50\n",
      "60000/60000 [==============================] - 63s 1ms/step - loss: 0.1096 - val_loss: 0.1081\n",
      "Epoch 20/50\n",
      "60000/60000 [==============================] - 65s 1ms/step - loss: 0.1091 - val_loss: 0.1058\n",
      "Epoch 21/50\n",
      "60000/60000 [==============================] - 64s 1ms/step - loss: 0.1088 - val_loss: 0.1079\n",
      "Epoch 22/50\n",
      "60000/60000 [==============================] - 63s 1ms/step - loss: 0.1081 - val_loss: 0.1059\n",
      "Epoch 23/50\n",
      "60000/60000 [==============================] - 63s 1ms/step - loss: 0.1075 - val_loss: 0.1054\n",
      "Epoch 24/50\n",
      "60000/60000 [==============================] - 55s 924us/step - loss: 0.1073 - val_loss: 0.1112\n",
      "Epoch 25/50\n",
      "60000/60000 [==============================] - 55s 923us/step - loss: 0.1069 - val_loss: 0.1046\n",
      "Epoch 26/50\n",
      "60000/60000 [==============================] - 56s 931us/step - loss: 0.1068 - val_loss: 0.1051\n",
      "Epoch 27/50\n",
      "60000/60000 [==============================] - 74s 1ms/step - loss: 0.1061 - val_loss: 0.1066\n",
      "Epoch 28/50\n",
      "60000/60000 [==============================] - 53s 877us/step - loss: 0.1058 - val_loss: 0.1046\n",
      "Epoch 29/50\n",
      "60000/60000 [==============================] - 53s 878us/step - loss: 0.1057 - val_loss: 0.1014\n",
      "Epoch 30/50\n",
      "60000/60000 [==============================] - 53s 882us/step - loss: 0.1055 - val_loss: 0.1075\n",
      "Epoch 31/50\n",
      "60000/60000 [==============================] - 53s 879us/step - loss: 0.1051 - val_loss: 0.1040\n",
      "Epoch 32/50\n",
      "60000/60000 [==============================] - 53s 876us/step - loss: 0.1048 - val_loss: 0.1010\n",
      "Epoch 33/50\n",
      "60000/60000 [==============================] - 53s 878us/step - loss: 0.1041 - val_loss: 0.1032\n",
      "Epoch 34/50\n",
      "60000/60000 [==============================] - 53s 878us/step - loss: 0.1041 - val_loss: 0.1032\n",
      "Epoch 35/50\n",
      "60000/60000 [==============================] - 53s 881us/step - loss: 0.1037 - val_loss: 0.1018\n",
      "Epoch 36/50\n",
      "60000/60000 [==============================] - 53s 880us/step - loss: 0.1034 - val_loss: 0.1026\n",
      "Epoch 37/50\n",
      "60000/60000 [==============================] - 53s 878us/step - loss: 0.1031 - val_loss: 0.1041\n",
      "Epoch 38/50\n",
      "60000/60000 [==============================] - 53s 880us/step - loss: 0.1029 - val_loss: 0.1013\n",
      "Epoch 39/50\n",
      "60000/60000 [==============================] - 53s 877us/step - loss: 0.1027 - val_loss: 0.1001\n",
      "Epoch 40/50\n",
      "60000/60000 [==============================] - 53s 876us/step - loss: 0.1024 - val_loss: 0.1015\n",
      "Epoch 41/50\n",
      "60000/60000 [==============================] - 52s 875us/step - loss: 0.1022 - val_loss: 0.1022\n",
      "Epoch 42/50\n",
      "60000/60000 [==============================] - 53s 879us/step - loss: 0.1023 - val_loss: 0.0997\n",
      "Epoch 43/50\n",
      "60000/60000 [==============================] - 52s 874us/step - loss: 0.1020 - val_loss: 0.1016\n",
      "Epoch 44/50\n",
      "60000/60000 [==============================] - 53s 877us/step - loss: 0.1016 - val_loss: 0.1008\n",
      "Epoch 45/50\n",
      "60000/60000 [==============================] - 53s 880us/step - loss: 0.1015 - val_loss: 0.0983\n",
      "Epoch 46/50\n",
      "60000/60000 [==============================] - 53s 879us/step - loss: 0.1015 - val_loss: 0.0997\n",
      "Epoch 47/50\n",
      "60000/60000 [==============================] - 53s 881us/step - loss: 0.1013 - val_loss: 0.0991\n",
      "Epoch 48/50\n",
      "60000/60000 [==============================] - 53s 881us/step - loss: 0.1011 - val_loss: 0.0998\n",
      "Epoch 49/50\n",
      "60000/60000 [==============================] - 53s 881us/step - loss: 0.1008 - val_loss: 0.0996\n",
      "Epoch 50/50\n",
      "60000/60000 [==============================] - 52s 875us/step - loss: 0.1010 - val_loss: 0.1011\n"
     ]
    },
    {
     "data": {
      "text/plain": [
       "<keras.callbacks.History at 0x7fda0cdebd68>"
      ]
     },
     "execution_count": 12,
     "metadata": {},
     "output_type": "execute_result"
    }
   ],
   "source": [
    "from keras.callbacks import TensorBoard\n",
    "\n",
    "autoencoder.fit(x_train, x_train,\n",
    "               epochs = 50,\n",
    "               batch_size=128,\n",
    "               shuffle=True,\n",
    "               validation_data=(x_test,x_test),\n",
    "               callbacks=[TensorBoard(log_dir='tmp/autoencoder')])"
   ]
  },
  {
   "cell_type": "code",
   "execution_count": 13,
   "metadata": {},
   "outputs": [],
   "source": [
    "decoded_imgs = autoencoder.predict(x_test)"
   ]
  },
  {
   "cell_type": "code",
   "execution_count": 18,
   "metadata": {},
   "outputs": [
    {
     "data": {
      "image/png": "[encoded data removed]",
      "text/plain": [
       "<Figure size 1440x288 with 20 Axes>"
      ]
     },
     "metadata": {},
     "output_type": "display_data"
    }
   ],
   "source": [
    "import matplotlib.pyplot as plt\n",
    "\n",
    "n = 10\n",
    "plt.figure(figsize=(20,4))\n",
    "\n",
    "for i in range(n):\n",
    "    ax = plt.subplot(2, n, i + 1)\n",
    "    \n",
    "    plt.imshow(x_test[i].reshape(28,28))\n",
    "    plt.gray()\n",
    "    \n",
    "    ax.get_xaxis().set_visible(False)\n",
    "    ax.get_yaxis().set_visible(False)\n",
    "    \n",
    "    ax = plt.subplot(2, n, i + n + 1)\n",
    "    plt.imshow(decoded_imgs[i].reshape(28,28))\n",
    "    plt.gray()\n",
    "    \n",
    "    ax.get_xaxis().set_visible(False)\n",
    "    ax.get_yaxis().set_visible(False)\n",
    "    \n",
    "plt.show()\n",
    "    "
   ]
  },
  {
   "cell_type": "code",
   "execution_count": null,
   "metadata": {},
   "outputs": [],
   "source": []
  }
 ],
 "metadata": {
  "kernelspec": {
   "display_name": "magenta3",
   "language": "python",
   "name": "magenta3"
  },
  "language_info": {
   "codemirror_mode": {
    "name": "ipython",
    "version": 3
   },
   "file_extension": ".py",
   "mimetype": "text/x-python",
   "name": "python",
   "nbconvert_exporter": "python",
   "pygments_lexer": "ipython3",
   "version": "3.6.5"
  }
 },
 "nbformat": 4,
 "nbformat_minor": 2
}
