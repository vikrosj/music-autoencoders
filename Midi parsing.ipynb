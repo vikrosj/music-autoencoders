{
 "cells": [
  {
   "cell_type": "code",
   "execution_count": 2,
   "metadata": {},
   "outputs": [
    {
     "name": "stderr",
     "output_type": "stream",
     "text": [
      "/home/vik/miniconda3/envs/magenta3/lib/python3.6/site-packages/h5py/__init__.py:36: FutureWarning: Conversion of the second argument of issubdtype from `float` to `np.floating` is deprecated. In future, it will be treated as `np.float64 == np.dtype(float).type`.\n",
      "  from ._conv import register_converters as _register_converters\n",
      "Using TensorFlow backend.\n"
     ]
    }
   ],
   "source": [
    "# Imports\n",
    "\n",
    "from music21 import converter, instrument, note, chord\n",
    "import glob\n",
    "import time\n",
    "import numpy as np\n",
    "import keras.utils as utils\n",
    "\n",
    "np.set_printoptions(threshold=10e6)"
   ]
  },
  {
   "cell_type": "code",
   "execution_count": 5,
   "metadata": {},
   "outputs": [
    {
     "name": "stdout",
     "output_type": "stream",
     "text": [
      "exception\n",
      "exception\n",
      "exception\n",
      "exception\n",
      "exception\n",
      "exception\n",
      "exception\n",
      "exception\n",
      "exception\n",
      "exception\n",
      "exception\n",
      "exception\n",
      "exception\n",
      "exception\n",
      "exception\n",
      "exception\n",
      "exception\n",
      "exception\n",
      "exception\n",
      "exception\n",
      "exception\n",
      "exception\n",
      "exception\n",
      "exception\n",
      "exception\n",
      "exception\n",
      "exception\n",
      "exception\n",
      "exception\n",
      "exception\n",
      "exception\n",
      "exception\n",
      "exception\n",
      "exception\n",
      "exception\n",
      "exception\n",
      "exception\n",
      "exception\n",
      "exception\n",
      "exception\n",
      "exception\n",
      "exception\n",
      "exception\n",
      "exception\n",
      "exception\n",
      "exception\n",
      "exception\n",
      "exception\n",
      "exception\n",
      "exception\n"
     ]
    }
   ],
   "source": [
    "notes = []\n",
    "\n",
    "counter = 0\n",
    "\n",
    "for file in glob.glob(\"guitarmidi/*.mid\"):\n",
    "    \n",
    "    time_out = time.process_time() + 0.5\n",
    "        \n",
    "    if counter == 500: break\n",
    "    \n",
    "    counter += 1\n",
    "    \n",
    "    while time.process_time() <= time_out:\n",
    "        \n",
    "        try:        \n",
    "    \n",
    "            midi = converter.parse(file) \n",
    "\n",
    "            notes_to_parse = None\n",
    "            parts = instrument.partitionByInstrument(midi)\n",
    "\n",
    "            if parts: # file has instrument parts, only keep the first one\n",
    "                notes_to_parse = parts.parts[0].recurse()\n",
    "                \n",
    "            else: # file has notes in a flat structure\n",
    "                notes_to_parse = midi.flat.notes\n",
    "\n",
    "            for element in notes_to_parse:\n",
    "\n",
    "                if isinstance(element, note.Note):\n",
    "                    notes.append(str(element.pitch))\n",
    "\n",
    "                elif isinstance(element, chord.Chord):\n",
    "                    notes.append('.'.join(str(n) for n in element.normalOrder))\n",
    "                    \n",
    "                elif isinstance(element, note.Rest):\n",
    "                    notes.append(str(''))\n",
    "\n",
    "        except: \n",
    "            print(\"exception\")"
   ]
  },
  {
   "cell_type": "markdown",
   "metadata": {},
   "source": [
    "Got a MidiException, probably telling me that some of the files are not unicode-formatted.\n",
    "Avoid these with a simple try/except"
   ]
  },
  {
   "cell_type": "code",
   "execution_count": 6,
   "metadata": {},
   "outputs": [],
   "source": [
    "notesStr = ','.join(notes)\n",
    "\n",
    "textfile = open(\"notesNew.txt\", \"w\")\n",
    "textfile.write(notesStr)\n",
    "textfile.close()"
   ]
  },
  {
   "cell_type": "code",
   "execution_count": null,
   "metadata": {},
   "outputs": [],
   "source": [
    "# bumbleStr = ','.join(notes)\n",
    "\n",
    "# textfile = open(\"bumble.txt\", \"w\")\n",
    "# textfile.write(bumbleStr)\n",
    "# textfile.close()"
   ]
  },
  {
   "cell_type": "code",
   "execution_count": 59,
   "metadata": {},
   "outputs": [],
   "source": [
    "# for file in glob.glob(\"guitarmidi/*.mid\"):\n",
    "\n",
    "import music21\n",
    "    \n",
    "import os\n",
    "\n",
    "fp = './12Step.mid'\n",
    "mf = music21.midi.MidiFile()\n",
    "mf.open(str(fp))\n",
    "mf.read()\n",
    "\n",
    "s = music21.midi.translate.midiFileToStream(mf)\n",
    "\n",
    "# for thisNote in s.getElementsByClass([\"Note\", \"Rest\"]):\n",
    "#     print(thisNote, thisNote.offset)\n",
    "    \n",
    "# mf.close()"
   ]
  },
  {
   "cell_type": "markdown",
   "metadata": {},
   "source": [
    "\n",
    "\n",
    "stuff 1.5 \n",
    " <music21.note.Note E> \n",
    "\n",
    "\n",
    "stuff 0.25 \n",
    " <music21.note.Rest rest> \n",
    "\n",
    "\n",
    "stuff 0.5 \n",
    " <music21.note.Rest rest> \n",
    "\n",
    "\n",
    "stuff 0.75 \n",
    " <music21.note.Note G> \n",
    "\n",
    "\n",
    "stuff 0.75 "
   ]
  },
  {
   "cell_type": "code",
   "execution_count": 44,
   "metadata": {},
   "outputs": [
    {
     "data": {
      "text/plain": [
       "(6119, 7574)"
      ]
     },
     "execution_count": 44,
     "metadata": {},
     "output_type": "execute_result"
    }
   ],
   "source": [
    "len(duration), len(notes)"
   ]
  },
  {
   "cell_type": "code",
   "execution_count": 25,
   "metadata": {},
   "outputs": [
    {
     "data": {
      "text/plain": [
       "[1.5, 0.75, 0.75, 0.25, 0.25, 0.25, 1.5, 0.75, 0.75, 0.25]"
      ]
     },
     "execution_count": 25,
     "metadata": {},
     "output_type": "execute_result"
    }
   ],
   "source": [
    "duration[0:10]"
   ]
  },
  {
   "cell_type": "code",
   "execution_count": 28,
   "metadata": {},
   "outputs": [
    {
     "data": {
      "text/plain": [
       "['6.11', 'C#4', 'B3', 'B-3', 'A3', '3.5', 'G3', 'A3', '10']"
      ]
     },
     "execution_count": 28,
     "metadata": {},
     "output_type": "execute_result"
    }
   ],
   "source": [
    "notes[-10:-1]"
   ]
  },
  {
   "cell_type": "code",
   "execution_count": null,
   "metadata": {},
   "outputs": [],
   "source": []
  }
 ],
 "metadata": {
  "kernelspec": {
   "display_name": "magenta3",
   "language": "python",
   "name": "magenta3"
  },
  "language_info": {
   "codemirror_mode": {
    "name": "ipython",
    "version": 3
   },
   "file_extension": ".py",
   "mimetype": "text/x-python",
   "name": "python",
   "nbconvert_exporter": "python",
   "pygments_lexer": "ipython3",
   "version": "3.6.5"
  }
 },
 "nbformat": 4,
 "nbformat_minor": 2
}
